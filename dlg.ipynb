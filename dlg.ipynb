{
  "nbformat": 4,
  "nbformat_minor": 0,
  "metadata": {
    "colab": {
      "provenance": [],
      "authorship_tag": "ABX9TyOETupDdFu9s+Vr+GAcjNz4",
      "include_colab_link": true
    },
    "kernelspec": {
      "name": "python3",
      "display_name": "Python 3"
    },
    "language_info": {
      "name": "python"
    }
  },
  "cells": [
    {
      "cell_type": "markdown",
      "metadata": {
        "id": "view-in-github",
        "colab_type": "text"
      },
      "source": [
        "<a href=\"https://colab.research.google.com/github/bahador1/I-GOS/blob/main/dlg.ipynb\" target=\"_parent\"><img src=\"https://colab.research.google.com/assets/colab-badge.svg\" alt=\"Open In Colab\"/></a>"
      ]
    },
    {
      "cell_type": "markdown",
      "source": [
        "- our little squirrel must be\n",
        "    - `torch.float32`\n",
        "\n",
        "\n",
        "- speculations:\n",
        "    - the picture of dog is more complicated than the picutre of tree!!! like manifold and shit  \n",
        "---\n",
        "\n",
        "- task:\n",
        "    - simplifying the reading data section"
      ],
      "metadata": {
        "id": "2LpNcaUPiM6T"
      }
    },
    {
      "cell_type": "code",
      "execution_count": 63,
      "metadata": {
        "id": "8jB8W3HZsvCf"
      },
      "outputs": [],
      "source": [
        "import time\n",
        "import os\n",
        "import numpy as np\n",
        "import matplotlib.pyplot as plt\n",
        "import torch\n",
        "import torch.nn as nn\n",
        "from torch.utils.data import Dataset\n",
        "from torchvision import datasets, transforms\n",
        "import pickle\n",
        "import PIL.Image as Image\n",
        "\n",
        "\n",
        "class LeNet(nn.Module):\n",
        "    def __init__(self, channel=3, hideen=768, num_classes=10):\n",
        "        super(LeNet, self).__init__()\n",
        "        act = nn.Sigmoid\n",
        "        self.body = nn.Sequential(\n",
        "            nn.Conv2d(channel, 12, kernel_size=5, padding=5 // 2, stride=2),\n",
        "            act(),\n",
        "            nn.Conv2d(12, 12, kernel_size=5, padding=5 // 2, stride=2),\n",
        "            act(),\n",
        "            nn.Conv2d(12, 12, kernel_size=5, padding=5 // 2, stride=1),\n",
        "            act(),\n",
        "        )\n",
        "        self.fc = nn.Sequential(\n",
        "            nn.Linear(hideen, num_classes)\n",
        "        )\n",
        "\n",
        "    def forward(self, x):\n",
        "        out = self.body(x)\n",
        "        out = out.view(out.size(0), -1)\n",
        "        out = self.fc(out)\n",
        "        return out\n",
        "\n",
        "def weights_init(m):\n",
        "    try:\n",
        "        if hasattr(m, \"weight\"):\n",
        "            m.weight.data.uniform_(-0.5, 0.5)\n",
        "    except Exception:\n",
        "        print('warning: failed in weights_init for %s.weight' % m._get_name())\n",
        "    try:\n",
        "        if hasattr(m, \"bias\"):\n",
        "            m.bias.data.uniform_(-0.5, 0.5)\n",
        "    except Exception:\n",
        "        print('warning: failed in weights_init for %s.bias' % m._get_name())\n"
      ]
    },
    {
      "cell_type": "code",
      "source": [
        "class Dataset_from_Image(Dataset):\n",
        "    def __init__(self, imgs, labs, transform=None):\n",
        "        self.imgs = imgs # img paths\n",
        "        self.labs = labs # labs is ndarray\n",
        "        self.transform = transform\n",
        "        del imgs, labs\n",
        "\n",
        "    def __len__(self):\n",
        "        return self.labs.shape[0]\n",
        "\n",
        "    def __getitem__(self, idx):\n",
        "        lab = self.labs[idx]\n",
        "        img = Image.open(self.imgs[idx])\n",
        "        if img.mode != 'RGB':\n",
        "            img = img.convert('RGB')\n",
        "        img = self.transform(img)\n",
        "        return img, lab\n"
      ],
      "metadata": {
        "id": "DFA1uyInsxhM"
      },
      "execution_count": 64,
      "outputs": []
    },
    {
      "cell_type": "code",
      "source": [
        "dataset = 'MNIST'\n",
        "root_path = '.'\n",
        "data_path = os.path.join(root_path, './data').replace('\\\\', '/')\n",
        "save_path = os.path.join(root_path, 'results/DLG_%s'%dataset).replace('\\\\', '/')\n",
        "\n",
        "lr = 1.0\n",
        "num_dummy = 1\n",
        "Iteration = 300\n",
        "num_exp = 1\n",
        "\n",
        "use_cuda = torch.cuda.is_available()\n",
        "device = 'cuda' if use_cuda else 'cpu'\n",
        "\n",
        "# tt = transforms.Compose([transforms.ToTensor()])\n",
        "# tp = transforms.Compose([transforms.ToPILImage()])\n",
        "to_tensor = transforms.ToTensor()\n",
        "to_pil = transforms.ToPILImage()\n",
        "\n",
        "print(dataset, 'root_path:', root_path)\n",
        "print(dataset, 'data_path:', data_path)\n",
        "print(dataset, 'save_path:', save_path)\n",
        "\n",
        "if not os.path.exists('results'):\n",
        "    os.mkdir('results')\n",
        "if not os.path.exists(save_path):\n",
        "    os.mkdir(save_path)\n",
        "\n",
        "\n",
        "\n",
        "''' load data '''\n",
        "if dataset == 'MNIST':\n",
        "    shape_img = (28, 28)\n",
        "    num_classes = 10\n",
        "    channel = 1\n",
        "    hidden = 588\n",
        "    dst = datasets.MNIST(data_path, download=True)\n",
        "\n",
        "elif dataset == 'cifar100':\n",
        "    shape_img = (32, 32)\n",
        "    num_classes = 100\n",
        "    channel = 3\n",
        "    hidden = 768\n",
        "    dst = datasets.CIFAR100(data_path, download=False)"
      ],
      "metadata": {
        "id": "fEWxYEjZszz3",
        "colab": {
          "base_uri": "https://localhost:8080/"
        },
        "outputId": "2b4611cb-c842-493d-c172-f21da34f7756"
      },
      "execution_count": 65,
      "outputs": [
        {
          "output_type": "stream",
          "name": "stdout",
          "text": [
            "MNIST root_path: .\n",
            "MNIST data_path: ././data\n",
            "MNIST save_path: ./results/DLG_MNIST\n"
          ]
        }
      ]
    },
    {
      "cell_type": "code",
      "source": [
        "data_idx  = 0\n",
        "tmp_datum = to_tensor(dst[data_idx][0]).to(device) # the image\n",
        "gt_data = tmp_datum.unsqueeze(0)\n",
        "\n",
        "tmp_label = torch.Tensor([dst[data_idx][1]]).long().to(device) # the label\n",
        "gt_label = tmp_label.view(1, )\n"
      ],
      "metadata": {
        "id": "1bfsmX1Fer73"
      },
      "execution_count": 66,
      "outputs": []
    },
    {
      "cell_type": "code",
      "source": [
        "\n",
        "\n",
        "''' train DLG '''\n",
        "for idx_net in range(num_exp:=1):\n",
        "    net = LeNet(channel=channel, hideen=hidden, num_classes=num_classes)\n",
        "    net.apply(weights_init)\n",
        "\n",
        "    print('running %d|%d experiment'%(idx_net, num_exp))\n",
        "    net = net.to(device)\n",
        "    idx_shuffle = np.random.permutation(len(dst))\n",
        "\n",
        "\n",
        "    criterion = nn.CrossEntropyLoss().to(device)\n",
        "    imidx_list = []\n",
        "\n",
        "    # compute original gradient\n",
        "    out = net(gt_data)\n",
        "    y = criterion(out, gt_label)\n",
        "    dy_dx = torch.autograd.grad(y, net.parameters())\n",
        "    original_dy_dx = list((_.detach().clone() for _ in dy_dx))\n",
        "\n",
        "    # generate dummy data and label\n",
        "    dummy_data = torch.randn(gt_data.size()).to(device).requires_grad_(True)\n",
        "    dummy_label = torch.randn((gt_data.shape[0], num_classes)).to(device).requires_grad_(True)\n",
        "\n",
        "    optimizer = torch.optim.LBFGS([dummy_data, dummy_label], lr=lr)\n",
        "\n",
        "\n",
        "    history = []\n",
        "    history_iters = []\n",
        "    losses = []\n",
        "    mses = []\n",
        "    train_iters = []\n",
        "\n",
        "    print('lr =', lr)\n",
        "    for iters in range(Iteration):\n",
        "\n",
        "        def closure():\n",
        "            optimizer.zero_grad()\n",
        "            pred = net(dummy_data)\n",
        "            dummy_loss = - torch.mean(torch.sum(torch.softmax(dummy_label, -1) * torch.log(torch.softmax(pred, -1)), dim=-1))\n",
        "            # dummy_loss = criterion(pred, gt_label)\n",
        "\n",
        "\n",
        "            dummy_dy_dx = torch.autograd.grad(dummy_loss, net.parameters(), create_graph=True)\n",
        "\n",
        "            grad_diff = 0\n",
        "            for gx, gy in zip(dummy_dy_dx, original_dy_dx):\n",
        "                grad_diff += ((gx - gy) ** 2).sum()\n",
        "            grad_diff.backward()\n",
        "            return grad_diff\n",
        "\n",
        "        optimizer.step(closure)\n",
        "        current_loss = closure().item()\n",
        "        train_iters.append(iters)\n",
        "        losses.append(current_loss)\n",
        "        mses.append(torch.mean((dummy_data-gt_data)**2).item())\n",
        "\n",
        "\n",
        "        if iters % int(Iteration / 30) == 0:\n",
        "            current_time = str(time.strftime(\"[%Y-%m-%d %H:%M:%S]\", time.localtime()))\n",
        "            print(current_time, iters, 'loss = %.8f, mse = %.8f' %(current_loss, mses[-1]))\n",
        "            history.append([to_pil(dummy_data[imidx].cpu()) for imidx in range(num_dummy)])\n",
        "            history_iters.append(iters)\n",
        "\n",
        "            for imidx in range(num_dummy):\n",
        "                plt.figure(figsize=(12, 8))\n",
        "                plt.subplot(3, 10, 1)\n",
        "                plt.imshow(to_pil(gt_data[imidx].cpu()))\n",
        "                for i in range(min(len(history), 29)):\n",
        "                    plt.subplot(3, 10, i + 2)\n",
        "                    plt.imshow(history[i][imidx])\n",
        "                    plt.title('iter=%d' % (history_iters[i]))\n",
        "                    plt.axis('off')\n",
        "\n",
        "                plt.savefig('%s/DLG_on_%s.png' % (save_path,data_idx))\n",
        "                plt.close()\n",
        "\n",
        "\n",
        "            if current_loss < 0.000001: # converge\n",
        "                break\n",
        "\n",
        "        loss_DLG = losses\n",
        "        label_DLG = torch.argmax(dummy_label, dim=-1).detach().item()\n",
        "        mse_DLG = mses\n",
        "\n",
        "\n",
        "    print('imidx_list:', imidx_list)\n",
        "    print('loss_DLG:', loss_DLG[-1],)\n",
        "    print('mse_DLG:', mse_DLG[-1],)\n",
        "    print('gt_label:', gt_label.detach().cpu().data.numpy(), 'lab_DLG:', label_DLG)\n",
        "\n",
        "    print('----------------------\\n\\n')"
      ],
      "metadata": {
        "id": "-lNtXNiTecxv",
        "colab": {
          "base_uri": "https://localhost:8080/"
        },
        "outputId": "23564751-9f39-4477-b716-61e55c0ec926"
      },
      "execution_count": 67,
      "outputs": [
        {
          "output_type": "stream",
          "name": "stdout",
          "text": [
            "running 0|1 experiment\n",
            "lr = 1.0\n",
            "[2025-09-16 09:26:13] 0 loss = 4.85508108, mse = 0.79746544\n",
            "[2025-09-16 09:26:15] 10 loss = 0.00020117, mse = 0.00018950\n",
            "[2025-09-16 09:26:17] 20 loss = 0.00001581, mse = 0.00001245\n",
            "[2025-09-16 09:26:20] 30 loss = 0.00000033, mse = 0.00000056\n",
            "imidx_list: []\n",
            "loss_DLG: 3.3059203019547567e-07\n",
            "mse_DLG: 5.556934752348752e-07\n",
            "gt_label: [5] lab_DLG: 5\n",
            "----------------------\n",
            "\n",
            "\n"
          ]
        }
      ]
    },
    {
      "cell_type": "code",
      "source": [],
      "metadata": {
        "id": "1-M33maw1yjI"
      },
      "execution_count": null,
      "outputs": []
    }
  ]
}